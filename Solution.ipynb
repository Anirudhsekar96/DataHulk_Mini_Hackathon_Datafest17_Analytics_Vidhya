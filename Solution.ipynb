{
 "cells": [
  {
   "cell_type": "code",
   "execution_count": 1,
   "metadata": {
    "collapsed": true
   },
   "outputs": [],
   "source": [
    "import numpy as np\n",
    "import pandas as pd"
   ]
  },
  {
   "cell_type": "code",
   "execution_count": 2,
   "metadata": {
    "collapsed": true
   },
   "outputs": [],
   "source": [
    "df = pd.read_csv('train.csv')\n",
    "df.dropna(inplace=True)"
   ]
  },
  {
   "cell_type": "code",
   "execution_count": 3,
   "metadata": {
    "collapsed": false
   },
   "outputs": [
    {
     "data": {
      "text/html": [
       "<div>\n",
       "<table border=\"1\" class=\"dataframe\">\n",
       "  <thead>\n",
       "    <tr style=\"text-align: right;\">\n",
       "      <th></th>\n",
       "      <th>ID</th>\n",
       "      <th>timestamp</th>\n",
       "      <th>Stock_ID</th>\n",
       "      <th>Volume</th>\n",
       "      <th>Three_Day_Moving_Average</th>\n",
       "      <th>Five_Day_Moving_Average</th>\n",
       "      <th>Ten_Day_Moving_Average</th>\n",
       "      <th>Twenty_Day_Moving_Average</th>\n",
       "      <th>True_Range</th>\n",
       "      <th>Average_True_Range</th>\n",
       "      <th>Positive_Directional_Movement</th>\n",
       "      <th>Negative_Directional_Movement</th>\n",
       "      <th>Outcome</th>\n",
       "    </tr>\n",
       "  </thead>\n",
       "  <tbody>\n",
       "    <tr>\n",
       "      <th>0</th>\n",
       "      <td>1_1</td>\n",
       "      <td>1</td>\n",
       "      <td>1</td>\n",
       "      <td>-0.33308</td>\n",
       "      <td>-0.99681</td>\n",
       "      <td>-0.98736</td>\n",
       "      <td>-0.94728</td>\n",
       "      <td>-0.91977</td>\n",
       "      <td>-0.21129</td>\n",
       "      <td>-0.38778</td>\n",
       "      <td>-0.39903</td>\n",
       "      <td>-0.14321</td>\n",
       "      <td>1</td>\n",
       "    </tr>\n",
       "    <tr>\n",
       "      <th>1</th>\n",
       "      <td>3_1</td>\n",
       "      <td>1</td>\n",
       "      <td>3</td>\n",
       "      <td>-0.67096</td>\n",
       "      <td>-2.08895</td>\n",
       "      <td>-2.08251</td>\n",
       "      <td>-2.02183</td>\n",
       "      <td>-1.93779</td>\n",
       "      <td>-0.46476</td>\n",
       "      <td>0.97308</td>\n",
       "      <td>-0.31078</td>\n",
       "      <td>0.80286</td>\n",
       "      <td>0</td>\n",
       "    </tr>\n",
       "    <tr>\n",
       "      <th>3</th>\n",
       "      <td>6_1</td>\n",
       "      <td>1</td>\n",
       "      <td>6</td>\n",
       "      <td>-0.23118</td>\n",
       "      <td>-0.55106</td>\n",
       "      <td>-0.53976</td>\n",
       "      <td>-0.47569</td>\n",
       "      <td>-0.42449</td>\n",
       "      <td>-0.60816</td>\n",
       "      <td>-0.69311</td>\n",
       "      <td>-0.40673</td>\n",
       "      <td>-0.45965</td>\n",
       "      <td>0</td>\n",
       "    </tr>\n",
       "    <tr>\n",
       "      <th>4</th>\n",
       "      <td>10_1</td>\n",
       "      <td>1</td>\n",
       "      <td>10</td>\n",
       "      <td>0.15076</td>\n",
       "      <td>-1.40937</td>\n",
       "      <td>-1.39805</td>\n",
       "      <td>-1.36756</td>\n",
       "      <td>-1.31365</td>\n",
       "      <td>-0.33206</td>\n",
       "      <td>-0.43690</td>\n",
       "      <td>-0.33347</td>\n",
       "      <td>0.29217</td>\n",
       "      <td>0</td>\n",
       "    </tr>\n",
       "    <tr>\n",
       "      <th>5</th>\n",
       "      <td>11_1</td>\n",
       "      <td>1</td>\n",
       "      <td>11</td>\n",
       "      <td>-0.57249</td>\n",
       "      <td>0.61078</td>\n",
       "      <td>0.62465</td>\n",
       "      <td>0.64510</td>\n",
       "      <td>0.76290</td>\n",
       "      <td>1.21998</td>\n",
       "      <td>1.02812</td>\n",
       "      <td>1.44735</td>\n",
       "      <td>-0.40430</td>\n",
       "      <td>1</td>\n",
       "    </tr>\n",
       "  </tbody>\n",
       "</table>\n",
       "</div>"
      ],
      "text/plain": [
       "     ID  timestamp  Stock_ID   Volume  Three_Day_Moving_Average  \\\n",
       "0   1_1          1         1 -0.33308                  -0.99681   \n",
       "1   3_1          1         3 -0.67096                  -2.08895   \n",
       "3   6_1          1         6 -0.23118                  -0.55106   \n",
       "4  10_1          1        10  0.15076                  -1.40937   \n",
       "5  11_1          1        11 -0.57249                   0.61078   \n",
       "\n",
       "   Five_Day_Moving_Average  Ten_Day_Moving_Average  Twenty_Day_Moving_Average  \\\n",
       "0                 -0.98736                -0.94728                   -0.91977   \n",
       "1                 -2.08251                -2.02183                   -1.93779   \n",
       "3                 -0.53976                -0.47569                   -0.42449   \n",
       "4                 -1.39805                -1.36756                   -1.31365   \n",
       "5                  0.62465                 0.64510                    0.76290   \n",
       "\n",
       "   True_Range  Average_True_Range  Positive_Directional_Movement  \\\n",
       "0    -0.21129            -0.38778                       -0.39903   \n",
       "1    -0.46476             0.97308                       -0.31078   \n",
       "3    -0.60816            -0.69311                       -0.40673   \n",
       "4    -0.33206            -0.43690                       -0.33347   \n",
       "5     1.21998             1.02812                        1.44735   \n",
       "\n",
       "   Negative_Directional_Movement  Outcome  \n",
       "0                       -0.14321        1  \n",
       "1                        0.80286        0  \n",
       "3                       -0.45965        0  \n",
       "4                        0.29217        0  \n",
       "5                       -0.40430        1  "
      ]
     },
     "execution_count": 3,
     "metadata": {},
     "output_type": "execute_result"
    }
   ],
   "source": [
    "df.head()"
   ]
  },
  {
   "cell_type": "code",
   "execution_count": 8,
   "metadata": {
    "collapsed": false
   },
   "outputs": [],
   "source": [
    "X = df.drop(['Outcome','ID'],axis=1).values\n",
    "y = df['Outcome'].values"
   ]
  },
  {
   "cell_type": "code",
   "execution_count": 14,
   "metadata": {
    "collapsed": false
   },
   "outputs": [],
   "source": [
    "from sklearn.model_selection import train_test_split\n",
    "\n",
    "X_train, X_test, y_train, y_test = train_test_split(X, y, test_size=0.2,random_state=42 ,stratify=y)"
   ]
  },
  {
   "cell_type": "code",
   "execution_count": 6,
   "metadata": {
    "collapsed": false
   },
   "outputs": [
    {
     "name": "stdout",
     "output_type": "stream",
     "text": [
      "<class 'pandas.core.frame.DataFrame'>\n",
      "Int64Index: 698335 entries, 0 to 702738\n",
      "Data columns (total 13 columns):\n",
      "ID                               698335 non-null object\n",
      "timestamp                        698335 non-null int64\n",
      "Stock_ID                         698335 non-null int64\n",
      "Volume                           698335 non-null float64\n",
      "Three_Day_Moving_Average         698335 non-null float64\n",
      "Five_Day_Moving_Average          698335 non-null float64\n",
      "Ten_Day_Moving_Average           698335 non-null float64\n",
      "Twenty_Day_Moving_Average        698335 non-null float64\n",
      "True_Range                       698335 non-null float64\n",
      "Average_True_Range               698335 non-null float64\n",
      "Positive_Directional_Movement    698335 non-null float64\n",
      "Negative_Directional_Movement    698335 non-null float64\n",
      "Outcome                          698335 non-null int64\n",
      "dtypes: float64(9), int64(3), object(1)\n",
      "memory usage: 74.6+ MB\n"
     ]
    }
   ],
   "source": [
    "df.info()"
   ]
  },
  {
   "cell_type": "code",
   "execution_count": 10,
   "metadata": {
    "collapsed": false
   },
   "outputs": [
    {
     "name": "stdout",
     "output_type": "stream",
     "text": [
      "--- 337.641000032 seconds ---\n",
      "--- 349.419000149 seconds ---\n"
     ]
    }
   ],
   "source": [
    "import time\n",
    "start_time = time.time()\n",
    "\n",
    "from sklearn.neural_network import MLPClassifier\n",
    "\n",
    "mlp = MLPClassifier(hidden_layer_sizes=(64,64,64,64))\n",
    "\n",
    "mlp.fit(X_train,y_train)\n",
    "\n",
    "end_time = time.time()\n",
    "print(\"--- %s seconds ---\" % ( end_time - start_time))\n",
    "\n",
    "\n",
    "predictions = mlp.predict(X_test)\n",
    "\n",
    "end_time2 = time.time()\n",
    "print(\"--- %s seconds ---\" % ( end_time2 - start_time))\n",
    "\n"
   ]
  },
  {
   "cell_type": "code",
   "execution_count": 12,
   "metadata": {
    "collapsed": false
   },
   "outputs": [
    {
     "name": "stdout",
     "output_type": "stream",
     "text": [
      "             precision    recall  f1-score   support\n",
      "\n",
      "          0       0.55      1.00      0.71     76291\n",
      "          1       0.00      0.00      0.00     63376\n",
      "\n",
      "avg / total       0.30      0.55      0.39    139667\n",
      "\n"
     ]
    },
    {
     "name": "stderr",
     "output_type": "stream",
     "text": [
      "C:\\Anaconda2\\lib\\site-packages\\sklearn\\metrics\\classification.py:1113: UndefinedMetricWarning: Precision and F-score are ill-defined and being set to 0.0 in labels with no predicted samples.\n",
      "  'precision', 'predicted', average, warn_for)\n"
     ]
    }
   ],
   "source": [
    "from sklearn.metrics import classification_report,confusion_matrix\n",
    "print(classification_report(y_test,predictions))"
   ]
  },
  {
   "cell_type": "code",
   "execution_count": 13,
   "metadata": {
    "collapsed": false
   },
   "outputs": [
    {
     "name": "stdout",
     "output_type": "stream",
     "text": [
      "[[76291     0]\n",
      " [63376     0]]\n"
     ]
    }
   ],
   "source": [
    "print(confusion_matrix(y_test,predictions))"
   ]
  },
  {
   "cell_type": "code",
   "execution_count": 30,
   "metadata": {
    "collapsed": true
   },
   "outputs": [],
   "source": [
    "df2 = pd.read_csv('test.csv')"
   ]
  },
  {
   "cell_type": "code",
   "execution_count": 31,
   "metadata": {
    "collapsed": true
   },
   "outputs": [],
   "source": [
    "from sklearn.preprocessing import Imputer\n",
    "b = Imputer('Mean')"
   ]
  },
  {
   "cell_type": "code",
   "execution_count": 34,
   "metadata": {
    "collapsed": false
   },
   "outputs": [],
   "source": [
    "X2 = df2.drop(['ID'],axis=1).values\n",
    "\n",
    "df23 = df2.drop(['ID'],axis=1).fillna(0)"
   ]
  },
  {
   "cell_type": "code",
   "execution_count": 35,
   "metadata": {
    "collapsed": true
   },
   "outputs": [],
   "source": [
    "df23 = df23.values"
   ]
  },
  {
   "cell_type": "code",
   "execution_count": 36,
   "metadata": {
    "collapsed": false
   },
   "outputs": [],
   "source": [
    "labels = mlp.predict(df23)"
   ]
  },
  {
   "cell_type": "code",
   "execution_count": 37,
   "metadata": {
    "collapsed": true
   },
   "outputs": [],
   "source": [
    "data22 = {'ID': df2.ID.values,'Outcome':labels}"
   ]
  },
  {
   "cell_type": "code",
   "execution_count": 38,
   "metadata": {
    "collapsed": false
   },
   "outputs": [
    {
     "name": "stdout",
     "output_type": "stream",
     "text": [
      "              ID  Outcome\n",
      "0          1_554        0\n",
      "1          2_554        0\n",
      "2          3_554        0\n",
      "3          4_554        0\n",
      "4          6_554        0\n",
      "5          7_554        0\n",
      "6          9_554        0\n",
      "7         10_554        0\n",
      "8         11_554        0\n",
      "9         12_554        0\n",
      "10        13_554        0\n",
      "11        14_554        0\n",
      "12        15_554        0\n",
      "13        16_554        0\n",
      "14        17_554        0\n",
      "15        18_554        0\n",
      "16        19_554        0\n",
      "17        20_554        0\n",
      "18        21_554        0\n",
      "19        22_554        0\n",
      "20        23_554        0\n",
      "21        24_554        0\n",
      "22        25_554        0\n",
      "23        26_554        0\n",
      "24        27_554        0\n",
      "25        28_554        0\n",
      "26        29_554        0\n",
      "27        30_554        0\n",
      "28        31_554        0\n",
      "29        32_554        0\n",
      "...          ...      ...\n",
      "101916  2169_953        0\n",
      "101917  2170_953        0\n",
      "101918  2171_953        0\n",
      "101919  2172_953        0\n",
      "101920  2173_953        0\n",
      "101921  2174_953        0\n",
      "101922  2175_953        0\n",
      "101923  2176_953        0\n",
      "101924  2177_953        0\n",
      "101925  2178_953        0\n",
      "101926  2179_953        0\n",
      "101927  2180_953        0\n",
      "101928  2181_953        0\n",
      "101929  2182_953        0\n",
      "101930  2183_953        0\n",
      "101931  2185_953        0\n",
      "101932  2186_953        0\n",
      "101933  2187_953        0\n",
      "101934  2188_953        0\n",
      "101935  2189_953        0\n",
      "101936  2190_953        0\n",
      "101937  2191_953        0\n",
      "101938  2192_953        0\n",
      "101939  2193_953        0\n",
      "101940  2194_953        0\n",
      "101941  2195_953        0\n",
      "101942  2196_953        0\n",
      "101943  2197_953        0\n",
      "101944  2198_953        0\n",
      "101945  2199_953        0\n",
      "\n",
      "[101946 rows x 2 columns]\n"
     ]
    }
   ],
   "source": [
    "tocsv = pd.DataFrame(data = data22)\n",
    "print tocsv"
   ]
  },
  {
   "cell_type": "code",
   "execution_count": 39,
   "metadata": {
    "collapsed": true
   },
   "outputs": [],
   "source": [
    "tocsv.to_csv('submission_MLP.csv')"
   ]
  },
  {
   "cell_type": "code",
   "execution_count": 41,
   "metadata": {
    "collapsed": false
   },
   "outputs": [],
   "source": [
    "from sklearn.neighbors import KNeighborsClassifier"
   ]
  },
  {
   "cell_type": "code",
   "execution_count": 44,
   "metadata": {
    "collapsed": true
   },
   "outputs": [],
   "source": [
    "knn = KNeighborsClassifier()"
   ]
  },
  {
   "cell_type": "code",
   "execution_count": 46,
   "metadata": {
    "collapsed": false
   },
   "outputs": [
    {
     "data": {
      "text/plain": [
       "KNeighborsClassifier(algorithm='auto', leaf_size=30, metric='minkowski',\n",
       "           metric_params=None, n_jobs=1, n_neighbors=5, p=2,\n",
       "           weights='uniform')"
      ]
     },
     "execution_count": 46,
     "metadata": {},
     "output_type": "execute_result"
    }
   ],
   "source": [
    "knn.fit(X_train,y_train)"
   ]
  },
  {
   "cell_type": "code",
   "execution_count": 1,
   "metadata": {
    "collapsed": false
   },
   "outputs": [
    {
     "ename": "NameError",
     "evalue": "name 'knn' is not defined",
     "output_type": "error",
     "traceback": [
      "\u001b[1;31m---------------------------------------------------------------------------\u001b[0m",
      "\u001b[1;31mNameError\u001b[0m                                 Traceback (most recent call last)",
      "\u001b[1;32m<ipython-input-1-f0995af856e2>\u001b[0m in \u001b[0;36m<module>\u001b[1;34m()\u001b[0m\n\u001b[1;32m----> 1\u001b[1;33m \u001b[0mlbl\u001b[0m \u001b[1;33m=\u001b[0m \u001b[0mknn\u001b[0m\u001b[1;33m.\u001b[0m\u001b[0mpredict_proba\u001b[0m\u001b[1;33m(\u001b[0m\u001b[0mdf23\u001b[0m\u001b[1;33m)\u001b[0m\u001b[1;33m\u001b[0m\u001b[0m\n\u001b[0m",
      "\u001b[1;31mNameError\u001b[0m: name 'knn' is not defined"
     ]
    }
   ],
   "source": [
    "lbl = knn.predict_proba(df23)"
   ]
  },
  {
   "cell_type": "code",
   "execution_count": 49,
   "metadata": {
    "collapsed": true
   },
   "outputs": [],
   "source": [
    "data22 = {'ID': df2.ID.values,'Outcome':lbl}"
   ]
  },
  {
   "cell_type": "code",
   "execution_count": 50,
   "metadata": {
    "collapsed": true
   },
   "outputs": [],
   "source": [
    "tocsv = pd.DataFrame(data = data22)"
   ]
  },
  {
   "cell_type": "code",
   "execution_count": 51,
   "metadata": {
    "collapsed": true
   },
   "outputs": [],
   "source": [
    "tocsv.to_csv('submission_knn.csv')"
   ]
  },
  {
   "cell_type": "code",
   "execution_count": null,
   "metadata": {
    "collapsed": true
   },
   "outputs": [],
   "source": []
  }
 ],
 "metadata": {
  "kernelspec": {
   "display_name": "Python [Root]",
   "language": "python",
   "name": "Python [Root]"
  },
  "language_info": {
   "codemirror_mode": {
    "name": "ipython",
    "version": 2
   },
   "file_extension": ".py",
   "mimetype": "text/x-python",
   "name": "python",
   "nbconvert_exporter": "python",
   "pygments_lexer": "ipython2",
   "version": "2.7.11"
  }
 },
 "nbformat": 4,
 "nbformat_minor": 0
}
