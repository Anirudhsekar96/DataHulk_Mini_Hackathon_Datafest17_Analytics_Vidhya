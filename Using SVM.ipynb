{
 "cells": [
  {
   "cell_type": "code",
   "execution_count": 1,
   "metadata": {
    "collapsed": true
   },
   "outputs": [],
   "source": [
    "import numpy as np\n",
    "import pandas as pd"
   ]
  },
  {
   "cell_type": "code",
   "execution_count": 2,
   "metadata": {
    "collapsed": true
   },
   "outputs": [],
   "source": [
    "df = pd.read_csv('train.csv')\n",
    "df.dropna(inplace=True)"
   ]
  },
  {
   "cell_type": "code",
   "execution_count": 3,
   "metadata": {
    "collapsed": true
   },
   "outputs": [],
   "source": [
    "X = df.drop(['Outcome','ID','Stock_ID','timestamp'],axis=1).values\n",
    "y = df['Outcome'].values\n"
   ]
  },
  {
   "cell_type": "code",
   "execution_count": 4,
   "metadata": {
    "collapsed": true
   },
   "outputs": [],
   "source": [
    "from sklearn.model_selection import train_test_split\n",
    "\n",
    "X_train, X_test, y_train, y_test = train_test_split(X, y, test_size=0.2,random_state=42 )"
   ]
  },
  {
   "cell_type": "code",
   "execution_count": null,
   "metadata": {
    "collapsed": false
   },
   "outputs": [],
   "source": [
    "from sklearn.ensemble import RandomForestClassifier\n",
    "\n",
    "rj = RandomForestClassifier(n_estimators =20)\n",
    "rj.fit(X_train,y_train)\n",
    "\n"
   ]
  },
  {
   "cell_type": "code",
   "execution_count": null,
   "metadata": {
    "collapsed": false
   },
   "outputs": [],
   "source": [
    "df2 = pd.read_csv('test.csv')\n",
    "df23 = df2.drop(['ID','Stock_ID','timestamp'],axis=1).fillna(0)\n",
    "df23 = df23.values\n",
    "\n",
    "labels = rj.predict_proba(df23)\n",
    "\n",
    "data22 = {'ID': df2.ID.values,'Outcome':labels[:,1]}\n",
    "tocsv = pd.DataFrame(data = data22)"
   ]
  },
  {
   "cell_type": "code",
   "execution_count": null,
   "metadata": {
    "collapsed": true
   },
   "outputs": [],
   "source": [
    "tocsv.to_csv('submission_rfproba.csv')"
   ]
  },
  {
   "cell_type": "code",
   "execution_count": null,
   "metadata": {
    "collapsed": true
   },
   "outputs": [],
   "source": [
    "from sklearn.calibration import CalibratedClassifierCV\n",
    "rj = CalibratedClassifierCV()\n",
    "rj.fit(X_train,y_train)\n",
    "df2 = pd.read_csv('test.csv')\n",
    "df23 = df2.drop(['ID','Stock_ID','timestamp'],axis=1).fillna(0)\n",
    "df23 = df23.values\n",
    "\n",
    "labels = rj.predict_proba(df23)\n",
    "\n",
    "data22 = {'ID': df2.ID.values,'Outcome':labels[:,1]}\n",
    "tocsv = pd.DataFrame(data = data22)\n",
    "tocsv.to_csv('submission_ccvproba.csv')"
   ]
  },
  {
   "cell_type": "code",
   "execution_count": 5,
   "metadata": {
    "collapsed": true
   },
   "outputs": [],
   "source": [
    "from sklearn.tree import DecisionTreeClassifier\n",
    "rj = DecisionTreeClassifier()\n",
    "rj.fit(X_train,y_train)\n",
    "df2 = pd.read_csv('test.csv')\n",
    "df23 = df2.drop(['ID','Stock_ID','timestamp'],axis=1).fillna(0)\n",
    "df23 = df23.values\n",
    "\n",
    "labels = rj.predict_proba(df23)\n",
    "\n",
    "data22 = {'ID': df2.ID.values,'Outcome':labels[:,1]}\n",
    "tocsv = pd.DataFrame(data = data22)\n",
    "tocsv.to_csv('submission_linearsvcproba.csv')"
   ]
  },
  {
   "cell_type": "code",
   "execution_count": 7,
   "metadata": {
    "collapsed": true
   },
   "outputs": [],
   "source": [
    "from sklearn.linear_model import LogisticRegressionCV\n",
    "rj = LogisticRegressionCV(cv=10)\n",
    "rj.fit(X,y)\n",
    "df2 = pd.read_csv('test.csv')\n",
    "df23 = df2.drop(['ID','Stock_ID','timestamp'],axis=1).fillna(0)\n",
    "df23 = df23.values\n",
    "\n",
    "labels = rj.predict_proba(df23)\n",
    "\n",
    "data22 = {'ID': df2.ID.values,'Outcome':labels[:,1]}\n",
    "tocsv = pd.DataFrame(data = data22)\n",
    "tocsv.to_csv('submission_LogisticRegressionCVproba.csv')"
   ]
  },
  {
   "cell_type": "code",
   "execution_count": null,
   "metadata": {
    "collapsed": true
   },
   "outputs": [],
   "source": []
  }
 ],
 "metadata": {
  "anaconda-cloud": {},
  "kernelspec": {
   "display_name": "Python [Root]",
   "language": "python",
   "name": "Python [Root]"
  },
  "language_info": {
   "codemirror_mode": {
    "name": "ipython",
    "version": 2
   },
   "file_extension": ".py",
   "mimetype": "text/x-python",
   "name": "python",
   "nbconvert_exporter": "python",
   "pygments_lexer": "ipython2",
   "version": "2.7.11"
  }
 },
 "nbformat": 4,
 "nbformat_minor": 0
}
