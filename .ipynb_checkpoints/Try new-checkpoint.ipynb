{
 "cells": [
  {
   "cell_type": "code",
   "execution_count": 1,
   "metadata": {
    "collapsed": true
   },
   "outputs": [],
   "source": [
    "import numpy as np\n",
    "import pandas as pd"
   ]
  },
  {
   "cell_type": "code",
   "execution_count": 2,
   "metadata": {
    "collapsed": true
   },
   "outputs": [],
   "source": [
    "df = pd.read_csv('train.csv')\n",
    "df.dropna(inplace=True)"
   ]
  },
  {
   "cell_type": "code",
   "execution_count": 16,
   "metadata": {
    "collapsed": true
   },
   "outputs": [],
   "source": [
    "X = df.drop(['Outcome','ID'],axis=1).values\n",
    "y = df['Outcome'].values"
   ]
  },
  {
   "cell_type": "code",
   "execution_count": 17,
   "metadata": {
    "collapsed": true
   },
   "outputs": [],
   "source": [
    "from sklearn.model_selection import train_test_split\n",
    "\n",
    "X_train, X_test, y_train, y_test = train_test_split(X, y, test_size=0.2,random_state=42 ,stratify=y)"
   ]
  },
  {
   "cell_type": "code",
   "execution_count": 19,
   "metadata": {
    "collapsed": false
   },
   "outputs": [
    {
     "name": "stdout",
     "output_type": "stream",
     "text": [
      "0.551397252035\n"
     ]
    }
   ],
   "source": [
    "from sklearn.linear_model import LogisticRegression\n",
    "from sklearn.multiclass import OneVsRestClassifier\n",
    "from sklearn.preprocessing import StandardScaler\n",
    "from sklearn.decomposition import PCA\n",
    "from sklearn.pipeline import Pipeline\n",
    "from sklearn.preprocessing import Imputer\n",
    "#b = StandardScaler()\n",
    "\n",
    "#X2_train = b.fit_transform(X_train)\n",
    "#X2_test = b.fit_transform(X_test)\n",
    "\n",
    "steps = [('pca', PCA()),('logistic_regression', LogisticRegression())]\n",
    "\n",
    "pipeline = Pipeline(steps)\n",
    "pipeline.fit(X_train, y_train)\n",
    "c2 = pipeline.score(X_test,y_test)\n",
    "\n",
    "print c2"
   ]
  },
  {
   "cell_type": "code",
   "execution_count": 6,
   "metadata": {
    "collapsed": true
   },
   "outputs": [],
   "source": [
    "df2 = pd.read_csv('test.csv')"
   ]
  },
  {
   "cell_type": "code",
   "execution_count": 7,
   "metadata": {
    "collapsed": true
   },
   "outputs": [],
   "source": [
    "df23 = df2.drop(['ID'],axis=1).fillna(0)"
   ]
  },
  {
   "cell_type": "code",
   "execution_count": 8,
   "metadata": {
    "collapsed": true
   },
   "outputs": [],
   "source": [
    "df23 = df23.values"
   ]
  },
  {
   "cell_type": "code",
   "execution_count": 9,
   "metadata": {
    "collapsed": true
   },
   "outputs": [],
   "source": [
    "labels = pipeline.predict(df23)"
   ]
  },
  {
   "cell_type": "code",
   "execution_count": 10,
   "metadata": {
    "collapsed": true
   },
   "outputs": [],
   "source": [
    "data22 = {'ID': df2.ID.values,'Outcome':labels}"
   ]
  },
  {
   "cell_type": "code",
   "execution_count": 11,
   "metadata": {
    "collapsed": false
   },
   "outputs": [
    {
     "name": "stdout",
     "output_type": "stream",
     "text": [
      "              ID  Outcome\n",
      "0          1_554        0\n",
      "1          2_554        0\n",
      "2          3_554        0\n",
      "3          4_554        0\n",
      "4          6_554        0\n",
      "5          7_554        1\n",
      "6          9_554        0\n",
      "7         10_554        1\n",
      "8         11_554        0\n",
      "9         12_554        0\n",
      "10        13_554        0\n",
      "11        14_554        0\n",
      "12        15_554        0\n",
      "13        16_554        0\n",
      "14        17_554        1\n",
      "15        18_554        0\n",
      "16        19_554        0\n",
      "17        20_554        0\n",
      "18        21_554        0\n",
      "19        22_554        0\n",
      "20        23_554        1\n",
      "21        24_554        0\n",
      "22        25_554        1\n",
      "23        26_554        0\n",
      "24        27_554        0\n",
      "25        28_554        1\n",
      "26        29_554        0\n",
      "27        30_554        1\n",
      "28        31_554        0\n",
      "29        32_554        1\n",
      "...          ...      ...\n",
      "101916  2169_953        1\n",
      "101917  2170_953        0\n",
      "101918  2171_953        0\n",
      "101919  2172_953        0\n",
      "101920  2173_953        0\n",
      "101921  2174_953        0\n",
      "101922  2175_953        0\n",
      "101923  2176_953        0\n",
      "101924  2177_953        0\n",
      "101925  2178_953        0\n",
      "101926  2179_953        0\n",
      "101927  2180_953        0\n",
      "101928  2181_953        0\n",
      "101929  2182_953        0\n",
      "101930  2183_953        0\n",
      "101931  2185_953        0\n",
      "101932  2186_953        0\n",
      "101933  2187_953        0\n",
      "101934  2188_953        0\n",
      "101935  2189_953        0\n",
      "101936  2190_953        0\n",
      "101937  2191_953        0\n",
      "101938  2192_953        0\n",
      "101939  2193_953        0\n",
      "101940  2194_953        0\n",
      "101941  2195_953        0\n",
      "101942  2196_953        0\n",
      "101943  2197_953        0\n",
      "101944  2198_953        0\n",
      "101945  2199_953        0\n",
      "\n",
      "[101946 rows x 2 columns]\n"
     ]
    }
   ],
   "source": [
    "tocsv = pd.DataFrame(data = data22)\n",
    "print tocsv"
   ]
  },
  {
   "cell_type": "code",
   "execution_count": 12,
   "metadata": {
    "collapsed": true
   },
   "outputs": [],
   "source": [
    "tocsv.to_csv('submission_LR.csv')"
   ]
  },
  {
   "cell_type": "code",
   "execution_count": 21,
   "metadata": {
    "collapsed": false
   },
   "outputs": [
    {
     "name": "stdout",
     "output_type": "stream",
     "text": [
      "0.557153801542\n"
     ]
    }
   ],
   "source": [
    "\n",
    "from sklearn.ensemble import RandomForestClassifier\n",
    "#b = StandardScaler()\n",
    "\n",
    "#X2_train = b.fit_transform(X_train)\n",
    "#X2_test = b.fit_transform(X_test)\n",
    "\n",
    "steps = [('pca', PCA()),('RC', RandomForestClassifier())]\n",
    "\n",
    "pipeline2 = Pipeline(steps)\n",
    "pipeline2.fit(X_train, y_train)\n",
    "c3 = pipeline2.score(X_test,y_test)\n",
    "\n",
    "print c3"
   ]
  },
  {
   "cell_type": "code",
   "execution_count": 22,
   "metadata": {
    "collapsed": true
   },
   "outputs": [],
   "source": [
    "labels2 = pipeline2.predict(df23)"
   ]
  },
  {
   "cell_type": "code",
   "execution_count": 23,
   "metadata": {
    "collapsed": true
   },
   "outputs": [],
   "source": [
    "data22 = {'ID': df2.ID.values,'Outcome':labels2}"
   ]
  },
  {
   "cell_type": "code",
   "execution_count": 24,
   "metadata": {
    "collapsed": false
   },
   "outputs": [
    {
     "name": "stdout",
     "output_type": "stream",
     "text": [
      "              ID  Outcome\n",
      "0          1_554        0\n",
      "1          2_554        0\n",
      "2          3_554        0\n",
      "3          4_554        0\n",
      "4          6_554        0\n",
      "5          7_554        1\n",
      "6          9_554        0\n",
      "7         10_554        0\n",
      "8         11_554        1\n",
      "9         12_554        0\n",
      "10        13_554        0\n",
      "11        14_554        1\n",
      "12        15_554        1\n",
      "13        16_554        0\n",
      "14        17_554        0\n",
      "15        18_554        0\n",
      "16        19_554        0\n",
      "17        20_554        1\n",
      "18        21_554        0\n",
      "19        22_554        1\n",
      "20        23_554        0\n",
      "21        24_554        1\n",
      "22        25_554        0\n",
      "23        26_554        0\n",
      "24        27_554        1\n",
      "25        28_554        0\n",
      "26        29_554        0\n",
      "27        30_554        1\n",
      "28        31_554        0\n",
      "29        32_554        0\n",
      "...          ...      ...\n",
      "101916  2169_953        0\n",
      "101917  2170_953        0\n",
      "101918  2171_953        0\n",
      "101919  2172_953        0\n",
      "101920  2173_953        0\n",
      "101921  2174_953        0\n",
      "101922  2175_953        0\n",
      "101923  2176_953        0\n",
      "101924  2177_953        0\n",
      "101925  2178_953        0\n",
      "101926  2179_953        0\n",
      "101927  2180_953        0\n",
      "101928  2181_953        1\n",
      "101929  2182_953        0\n",
      "101930  2183_953        0\n",
      "101931  2185_953        0\n",
      "101932  2186_953        0\n",
      "101933  2187_953        0\n",
      "101934  2188_953        1\n",
      "101935  2189_953        0\n",
      "101936  2190_953        0\n",
      "101937  2191_953        0\n",
      "101938  2192_953        0\n",
      "101939  2193_953        0\n",
      "101940  2194_953        0\n",
      "101941  2195_953        0\n",
      "101942  2196_953        0\n",
      "101943  2197_953        0\n",
      "101944  2198_953        0\n",
      "101945  2199_953        0\n",
      "\n",
      "[101946 rows x 2 columns]\n"
     ]
    }
   ],
   "source": [
    "tocsv = pd.DataFrame(data = data22)\n",
    "print tocsv"
   ]
  },
  {
   "cell_type": "code",
   "execution_count": 25,
   "metadata": {
    "collapsed": true
   },
   "outputs": [],
   "source": [
    "tocsv.to_csv('submission_RF.csv')"
   ]
  },
  {
   "cell_type": "code",
   "execution_count": 26,
   "metadata": {
    "collapsed": true
   },
   "outputs": [],
   "source": [
    "from sklearn.ensemble import VotingClassifier"
   ]
  },
  {
   "cell_type": "code",
   "execution_count": 28,
   "metadata": {
    "collapsed": false
   },
   "outputs": [],
   "source": [
    "eclf1 = VotingClassifier(estimators=[('lr', pipeline), ('rf', pipeline2)], voting='hard')\n",
    "\n"
   ]
  },
  {
   "cell_type": "code",
   "execution_count": 32,
   "metadata": {
    "collapsed": false
   },
   "outputs": [
    {
     "data": {
      "text/plain": [
       "VotingClassifier(estimators=[('lr', Pipeline(steps=[('pca', PCA(copy=True, iterated_power='auto', n_components=None, random_state=None,\n",
       "  svd_solver='auto', tol=0.0, whiten=False)), ('logistic_regression', LogisticRegression(C=1.0, class_weight=None, dual=False, fit_intercept=True,\n",
       "          intercept_scaling=1, max...tors=10, n_jobs=1, oob_score=False, random_state=None,\n",
       "            verbose=0, warm_start=False))]))],\n",
       "         n_jobs=1, voting='hard', weights=None)"
      ]
     },
     "execution_count": 32,
     "metadata": {},
     "output_type": "execute_result"
    }
   ],
   "source": [
    "eclf1.fit(X_train,y_train)"
   ]
  },
  {
   "cell_type": "code",
   "execution_count": 35,
   "metadata": {
    "collapsed": true
   },
   "outputs": [],
   "source": [
    "labels3 = eclf1.predict(df23)\n",
    "data22 = {'ID': df2.ID.values,'Outcome':labels3}\n",
    "tocsv = pd.DataFrame(data = data22)\n",
    "tocsv.to_csv('submission_ECLF.csv')\n"
   ]
  },
  {
   "cell_type": "code",
   "execution_count": null,
   "metadata": {
    "collapsed": true
   },
   "outputs": [],
   "source": []
  }
 ],
 "metadata": {
  "kernelspec": {
   "display_name": "Python [Root]",
   "language": "python",
   "name": "Python [Root]"
  },
  "language_info": {
   "codemirror_mode": {
    "name": "ipython",
    "version": 2
   },
   "file_extension": ".py",
   "mimetype": "text/x-python",
   "name": "python",
   "nbconvert_exporter": "python",
   "pygments_lexer": "ipython2",
   "version": "2.7.11"
  }
 },
 "nbformat": 4,
 "nbformat_minor": 0
}
